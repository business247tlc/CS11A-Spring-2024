{
 "cells": [
  {
   "cell_type": "code",
   "execution_count": 1,
   "metadata": {},
   "outputs": [
    {
     "name": "stdout",
     "output_type": "stream",
     "text": [
      "this is also a string\n",
      "This Is Also A String\n",
      "THIS IS ALSO A STRING\n",
      "this is also a string\n"
     ]
    }
   ],
   "source": [
    "message = \"this is also a string\"\n",
    "print(message)\n",
    "print(message.title())\n",
    "print(message.upper())\n",
    "print(message.lower())"
   ]
  },
  {
   "cell_type": "code",
   "execution_count": 1,
   "metadata": {},
   "outputs": [
    {
     "name": "stdout",
     "output_type": "stream",
     "text": [
      "Welcome, Tai!\n",
      "The type of variable 'name' is: Tai\n",
      "Age entered: 42\n",
      "The type of variable 'age' is: 42\n"
     ]
    }
   ],
   "source": [
    "name = input(\"Please enter your name: \")\n",
    "print(\"Welcome, \" + name + \"!\")\n",
    "print(\"The type of variable 'name' is: \" + (str(name)))\n",
    "age = input(\"Please enter your age: \")\n",
    "print(\"Age entered: \" + age)\n",
    "print(\"The type of variable 'age' is: \" + (str(age)))"
   ]
  },
  {
   "cell_type": "code",
   "execution_count": 3,
   "metadata": {},
   "outputs": [
    {
     "name": "stdout",
     "output_type": "stream",
     "text": [
      "How old are you?\n",
      "You are too young to have a drink.\n"
     ]
    }
   ],
   "source": [
    "print('How old are you?')\n",
    "age = int(input())\n",
    "\n",
    "if age < 22:\n",
    "    print('You are too young to have a drink.')\n",
    "elif age >= 80:\n",
    "    print('Ok, you will get a free drink.')\n",
    "else:\n",
    "    print('Sure, enjoy your drink.')"
   ]
  }
 ],
 "metadata": {
  "kernelspec": {
   "display_name": "Python 3",
   "language": "python",
   "name": "python3"
  },
  "language_info": {
   "codemirror_mode": {
    "name": "ipython",
    "version": 3
   },
   "file_extension": ".py",
   "mimetype": "text/x-python",
   "name": "python",
   "nbconvert_exporter": "python",
   "pygments_lexer": "ipython3",
   "version": "3.12.4"
  }
 },
 "nbformat": 4,
 "nbformat_minor": 2
}
